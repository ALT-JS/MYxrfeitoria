{
 "cells": [
  {
   "cell_type": "code",
   "execution_count": 1,
   "metadata": {},
   "outputs": [],
   "source": [
    "%load_ext autoreload\n",
    "%autoreload 2\n",
    "\n",
    "import xrfeitoria as xf\n",
    "import time\n",
    "\n",
    "xf.init(\"blender\")"
   ]
  },
  {
   "cell_type": "code",
   "execution_count": 2,
   "metadata": {},
   "outputs": [
    {
     "ename": "AttributeError",
     "evalue": "type object 'Scene' has no attribute 'empty_scene'",
     "output_type": "error",
     "traceback": [
      "\u001b[0;31m---------------------------------------------------------------------------\u001b[0m",
      "\u001b[0;31mAttributeError\u001b[0m                            Traceback (most recent call last)",
      "Cell \u001b[0;32mIn[2], line 1\u001b[0m\n\u001b[0;32m----> 1\u001b[0m xrf\u001b[39m.\u001b[39;49mScene\u001b[39m.\u001b[39;49mempty_scene()\n",
      "\u001b[0;31mAttributeError\u001b[0m: type object 'Scene' has no attribute 'empty_scene'"
     ]
    }
   ],
   "source": [
    "xf.Scene.empty_scene()"
   ]
  },
  {
   "cell_type": "code",
   "execution_count": 4,
   "metadata": {},
   "outputs": [
    {
     "ename": "ImportError",
     "evalue": "attempted relative import with no known parent package  File \"/Users/meihaiyi/code/xrfeitoria-gear/xrfeitoria_gear/scene/blender.py\", line 15",
     "output_type": "error",
     "traceback": [
      "\u001b[0;31m---------------------------------------------------------------------------\u001b[0m",
      "\u001b[0;31mImportError\u001b[0m                               Traceback (most recent call last)",
      "File \u001b[0;32m~/code/xrfeitoria-gear/xrfeitoria_gear/rpc/factory.py:221\u001b[0m, in \u001b[0;36mRPCFactory.run_function_remotely\u001b[0;34m(self, function, args)\u001b[0m\n\u001b[1;32m    220\u001b[0m \u001b[39mtry\u001b[39;00m:\n\u001b[0;32m--> 221\u001b[0m     \u001b[39mreturn\u001b[39;00m remote_function(\u001b[39m*\u001b[39;49margs)\n\u001b[1;32m    222\u001b[0m \u001b[39mexcept\u001b[39;00m \u001b[39mException\u001b[39;00m \u001b[39mas\u001b[39;00m exception:\n",
      "File \u001b[0;32m~/miniconda3/envs/xrfeitoria/lib/python3.9/xmlrpc/client.py:1122\u001b[0m, in \u001b[0;36m_Method.__call__\u001b[0;34m(self, *args)\u001b[0m\n\u001b[1;32m   1121\u001b[0m \u001b[39mdef\u001b[39;00m \u001b[39m__call__\u001b[39m(\u001b[39mself\u001b[39m, \u001b[39m*\u001b[39margs):\n\u001b[0;32m-> 1122\u001b[0m     \u001b[39mreturn\u001b[39;00m \u001b[39mself\u001b[39;49m\u001b[39m.\u001b[39;49m__send(\u001b[39mself\u001b[39;49m\u001b[39m.\u001b[39;49m__name, args)\n",
      "File \u001b[0;32m~/miniconda3/envs/xrfeitoria/lib/python3.9/xmlrpc/client.py:1464\u001b[0m, in \u001b[0;36mServerProxy.__request\u001b[0;34m(self, methodname, params)\u001b[0m\n\u001b[1;32m   1461\u001b[0m request \u001b[39m=\u001b[39m dumps(params, methodname, encoding\u001b[39m=\u001b[39m\u001b[39mself\u001b[39m\u001b[39m.\u001b[39m__encoding,\n\u001b[1;32m   1462\u001b[0m                 allow_none\u001b[39m=\u001b[39m\u001b[39mself\u001b[39m\u001b[39m.\u001b[39m__allow_none)\u001b[39m.\u001b[39mencode(\u001b[39mself\u001b[39m\u001b[39m.\u001b[39m__encoding, \u001b[39m'\u001b[39m\u001b[39mxmlcharrefreplace\u001b[39m\u001b[39m'\u001b[39m)\n\u001b[0;32m-> 1464\u001b[0m response \u001b[39m=\u001b[39m \u001b[39mself\u001b[39;49m\u001b[39m.\u001b[39;49m__transport\u001b[39m.\u001b[39;49mrequest(\n\u001b[1;32m   1465\u001b[0m     \u001b[39mself\u001b[39;49m\u001b[39m.\u001b[39;49m__host,\n\u001b[1;32m   1466\u001b[0m     \u001b[39mself\u001b[39;49m\u001b[39m.\u001b[39;49m__handler,\n\u001b[1;32m   1467\u001b[0m     request,\n\u001b[1;32m   1468\u001b[0m     verbose\u001b[39m=\u001b[39;49m\u001b[39mself\u001b[39;49m\u001b[39m.\u001b[39;49m__verbose\n\u001b[1;32m   1469\u001b[0m     )\n\u001b[1;32m   1471\u001b[0m \u001b[39mif\u001b[39;00m \u001b[39mlen\u001b[39m(response) \u001b[39m==\u001b[39m \u001b[39m1\u001b[39m:\n",
      "File \u001b[0;32m~/miniconda3/envs/xrfeitoria/lib/python3.9/xmlrpc/client.py:1166\u001b[0m, in \u001b[0;36mTransport.request\u001b[0;34m(self, host, handler, request_body, verbose)\u001b[0m\n\u001b[1;32m   1165\u001b[0m \u001b[39mtry\u001b[39;00m:\n\u001b[0;32m-> 1166\u001b[0m     \u001b[39mreturn\u001b[39;00m \u001b[39mself\u001b[39;49m\u001b[39m.\u001b[39;49msingle_request(host, handler, request_body, verbose)\n\u001b[1;32m   1167\u001b[0m \u001b[39mexcept\u001b[39;00m http\u001b[39m.\u001b[39mclient\u001b[39m.\u001b[39mRemoteDisconnected:\n",
      "File \u001b[0;32m~/miniconda3/envs/xrfeitoria/lib/python3.9/xmlrpc/client.py:1182\u001b[0m, in \u001b[0;36mTransport.single_request\u001b[0;34m(self, host, handler, request_body, verbose)\u001b[0m\n\u001b[1;32m   1181\u001b[0m         \u001b[39mself\u001b[39m\u001b[39m.\u001b[39mverbose \u001b[39m=\u001b[39m verbose\n\u001b[0;32m-> 1182\u001b[0m         \u001b[39mreturn\u001b[39;00m \u001b[39mself\u001b[39;49m\u001b[39m.\u001b[39;49mparse_response(resp)\n\u001b[1;32m   1184\u001b[0m \u001b[39mexcept\u001b[39;00m Fault:\n",
      "File \u001b[0;32m~/miniconda3/envs/xrfeitoria/lib/python3.9/xmlrpc/client.py:1354\u001b[0m, in \u001b[0;36mTransport.parse_response\u001b[0;34m(self, response)\u001b[0m\n\u001b[1;32m   1352\u001b[0m p\u001b[39m.\u001b[39mclose()\n\u001b[0;32m-> 1354\u001b[0m \u001b[39mreturn\u001b[39;00m u\u001b[39m.\u001b[39;49mclose()\n",
      "File \u001b[0;32m~/code/xrfeitoria-gear/xrfeitoria_gear/rpc/client.py:55\u001b[0m, in \u001b[0;36mRPCUnmarshaller.close\u001b[0;34m(self)\u001b[0m\n\u001b[1;32m     54\u001b[0m             \u001b[39mif\u001b[39;00m exception\u001b[39m.\u001b[39m\u001b[39m__name__\u001b[39m \u001b[39m==\u001b[39m exception_name:\n\u001b[0;32m---> 55\u001b[0m                 \u001b[39mraise\u001b[39;00m exception(exception_message)\n\u001b[1;32m     57\u001b[0m \u001b[39m# if all else fails just raise the fault\u001b[39;00m\n",
      "\u001b[0;31mImportError\u001b[0m: attempted relative import with no known parent package",
      "\nDuring handling of the above exception, another exception occurred:\n",
      "\u001b[0;31mImportError\u001b[0m                               Traceback (most recent call last)",
      "Cell \u001b[0;32mIn[4], line 3\u001b[0m\n\u001b[1;32m      1\u001b[0m now \u001b[39m=\u001b[39m time\u001b[39m.\u001b[39mtime()\n\u001b[1;32m      2\u001b[0m \u001b[39mfor\u001b[39;00m _ \u001b[39min\u001b[39;00m \u001b[39mrange\u001b[39m(\u001b[39m10\u001b[39m):\n\u001b[0;32m----> 3\u001b[0m     ret \u001b[39m=\u001b[39m xrf\u001b[39m.\u001b[39;49mScene\u001b[39m.\u001b[39;49m_add_cube_in_engine()\n\u001b[1;32m      5\u001b[0m \u001b[39mprint\u001b[39m(time\u001b[39m.\u001b[39mtime() \u001b[39m-\u001b[39m now)\n",
      "File \u001b[0;32m~/code/xrfeitoria-gear/xrfeitoria_gear/rpc/factory.py:248\u001b[0m, in \u001b[0;36mremote_call.<locals>.decorator.<locals>.wrapper\u001b[0;34m(*args, **kwargs)\u001b[0m\n\u001b[1;32m    242\u001b[0m validate_key_word_parameters(function, kwargs)\n\u001b[1;32m    243\u001b[0m rpc_factory \u001b[39m=\u001b[39m RPCFactory(\n\u001b[1;32m    244\u001b[0m     rpc_client\u001b[39m=\u001b[39mRPCClient(port),\n\u001b[1;32m    245\u001b[0m     remap_pairs\u001b[39m=\u001b[39mremap_pairs,\n\u001b[1;32m    246\u001b[0m     default_imports\u001b[39m=\u001b[39mdefault_imports\n\u001b[1;32m    247\u001b[0m )\n\u001b[0;32m--> 248\u001b[0m \u001b[39mreturn\u001b[39;00m rpc_factory\u001b[39m.\u001b[39;49mrun_function_remotely(function, args)\n",
      "File \u001b[0;32m~/code/xrfeitoria-gear/xrfeitoria_gear/rpc/factory.py:226\u001b[0m, in \u001b[0;36mRPCFactory.run_function_remotely\u001b[0;34m(self, function, args)\u001b[0m\n\u001b[1;32m    224\u001b[0m \u001b[39mif\u001b[39;00m \u001b[39misinstance\u001b[39m(exception, Fault):\n\u001b[1;32m    225\u001b[0m     \u001b[39mraise\u001b[39;00m Fault(exception\u001b[39m.\u001b[39mfaultCode, exception\u001b[39m.\u001b[39mfaultString)\n\u001b[0;32m--> 226\u001b[0m \u001b[39mraise\u001b[39;00m exception\u001b[39m.\u001b[39m\u001b[39m__class__\u001b[39m(stack_trace)\u001b[39m.\u001b[39mwith_traceback(call_traceback)\n",
      "Cell \u001b[0;32mIn[4], line 3\u001b[0m\n\u001b[1;32m      1\u001b[0m now \u001b[39m=\u001b[39m time\u001b[39m.\u001b[39mtime()\n\u001b[1;32m      2\u001b[0m \u001b[39mfor\u001b[39;00m _ \u001b[39min\u001b[39;00m \u001b[39mrange\u001b[39m(\u001b[39m10\u001b[39m):\n\u001b[0;32m----> 3\u001b[0m     ret \u001b[39m=\u001b[39m xrf\u001b[39m.\u001b[39;49mScene\u001b[39m.\u001b[39;49m_add_cube_in_engine()\n\u001b[1;32m      5\u001b[0m \u001b[39mprint\u001b[39m(time\u001b[39m.\u001b[39mtime() \u001b[39m-\u001b[39m now)\n",
      "\u001b[0;31mImportError\u001b[0m: attempted relative import with no known parent package  File \"/Users/meihaiyi/code/xrfeitoria-gear/xrfeitoria_gear/scene/blender.py\", line 15"
     ]
    }
   ],
   "source": [
    "now = time.time()\n",
    "for _ in range(10):\n",
    "    ret = xf.Scene._add_cube_in_engine()\n",
    "\n",
    "print(time.time() - now)"
   ]
  },
  {
   "cell_type": "code",
   "execution_count": 5,
   "metadata": {},
   "outputs": [
    {
     "data": {
      "text/plain": [
       "1000"
      ]
     },
     "execution_count": 5,
     "metadata": {},
     "output_type": "execute_result"
    }
   ],
   "source": [
    "len(ret)"
   ]
  },
  {
   "cell_type": "code",
   "execution_count": null,
   "metadata": {},
   "outputs": [],
   "source": []
  },
  {
   "cell_type": "code",
   "execution_count": 5,
   "metadata": {},
   "outputs": [
    {
     "ename": "TypeError",
     "evalue": "add_10_cube() missing 1 required positional argument: 'cls'  File \"/Users/meihaiyi/code/xrfeitoria-gear/xrfeitoria_gear/scene/blender.py\", line 22",
     "output_type": "error",
     "traceback": [
      "\u001b[0;31m---------------------------------------------------------------------------\u001b[0m",
      "\u001b[0;31mTypeError\u001b[0m                                 Traceback (most recent call last)",
      "File \u001b[0;32m~/code/xrfeitoria-gear/xrfeitoria_gear/RemoteCall/rpc/factory.py:221\u001b[0m, in \u001b[0;36mRPCFactory.run_function_remotely\u001b[0;34m(self, function, args)\u001b[0m\n\u001b[1;32m    220\u001b[0m \u001b[39mtry\u001b[39;00m:\n\u001b[0;32m--> 221\u001b[0m     \u001b[39mreturn\u001b[39;00m remote_function(\u001b[39m*\u001b[39;49margs)\n\u001b[1;32m    222\u001b[0m \u001b[39mexcept\u001b[39;00m \u001b[39mException\u001b[39;00m \u001b[39mas\u001b[39;00m exception:\n",
      "File \u001b[0;32m~/miniconda3/envs/xrfeitoria/lib/python3.9/xmlrpc/client.py:1122\u001b[0m, in \u001b[0;36m_Method.__call__\u001b[0;34m(self, *args)\u001b[0m\n\u001b[1;32m   1121\u001b[0m \u001b[39mdef\u001b[39;00m \u001b[39m__call__\u001b[39m(\u001b[39mself\u001b[39m, \u001b[39m*\u001b[39margs):\n\u001b[0;32m-> 1122\u001b[0m     \u001b[39mreturn\u001b[39;00m \u001b[39mself\u001b[39;49m\u001b[39m.\u001b[39;49m__send(\u001b[39mself\u001b[39;49m\u001b[39m.\u001b[39;49m__name, args)\n",
      "File \u001b[0;32m~/miniconda3/envs/xrfeitoria/lib/python3.9/xmlrpc/client.py:1464\u001b[0m, in \u001b[0;36mServerProxy.__request\u001b[0;34m(self, methodname, params)\u001b[0m\n\u001b[1;32m   1461\u001b[0m request \u001b[39m=\u001b[39m dumps(params, methodname, encoding\u001b[39m=\u001b[39m\u001b[39mself\u001b[39m\u001b[39m.\u001b[39m__encoding,\n\u001b[1;32m   1462\u001b[0m                 allow_none\u001b[39m=\u001b[39m\u001b[39mself\u001b[39m\u001b[39m.\u001b[39m__allow_none)\u001b[39m.\u001b[39mencode(\u001b[39mself\u001b[39m\u001b[39m.\u001b[39m__encoding, \u001b[39m'\u001b[39m\u001b[39mxmlcharrefreplace\u001b[39m\u001b[39m'\u001b[39m)\n\u001b[0;32m-> 1464\u001b[0m response \u001b[39m=\u001b[39m \u001b[39mself\u001b[39;49m\u001b[39m.\u001b[39;49m__transport\u001b[39m.\u001b[39;49mrequest(\n\u001b[1;32m   1465\u001b[0m     \u001b[39mself\u001b[39;49m\u001b[39m.\u001b[39;49m__host,\n\u001b[1;32m   1466\u001b[0m     \u001b[39mself\u001b[39;49m\u001b[39m.\u001b[39;49m__handler,\n\u001b[1;32m   1467\u001b[0m     request,\n\u001b[1;32m   1468\u001b[0m     verbose\u001b[39m=\u001b[39;49m\u001b[39mself\u001b[39;49m\u001b[39m.\u001b[39;49m__verbose\n\u001b[1;32m   1469\u001b[0m     )\n\u001b[1;32m   1471\u001b[0m \u001b[39mif\u001b[39;00m \u001b[39mlen\u001b[39m(response) \u001b[39m==\u001b[39m \u001b[39m1\u001b[39m:\n",
      "File \u001b[0;32m~/miniconda3/envs/xrfeitoria/lib/python3.9/xmlrpc/client.py:1166\u001b[0m, in \u001b[0;36mTransport.request\u001b[0;34m(self, host, handler, request_body, verbose)\u001b[0m\n\u001b[1;32m   1165\u001b[0m \u001b[39mtry\u001b[39;00m:\n\u001b[0;32m-> 1166\u001b[0m     \u001b[39mreturn\u001b[39;00m \u001b[39mself\u001b[39;49m\u001b[39m.\u001b[39;49msingle_request(host, handler, request_body, verbose)\n\u001b[1;32m   1167\u001b[0m \u001b[39mexcept\u001b[39;00m http\u001b[39m.\u001b[39mclient\u001b[39m.\u001b[39mRemoteDisconnected:\n",
      "File \u001b[0;32m~/miniconda3/envs/xrfeitoria/lib/python3.9/xmlrpc/client.py:1182\u001b[0m, in \u001b[0;36mTransport.single_request\u001b[0;34m(self, host, handler, request_body, verbose)\u001b[0m\n\u001b[1;32m   1181\u001b[0m         \u001b[39mself\u001b[39m\u001b[39m.\u001b[39mverbose \u001b[39m=\u001b[39m verbose\n\u001b[0;32m-> 1182\u001b[0m         \u001b[39mreturn\u001b[39;00m \u001b[39mself\u001b[39;49m\u001b[39m.\u001b[39;49mparse_response(resp)\n\u001b[1;32m   1184\u001b[0m \u001b[39mexcept\u001b[39;00m Fault:\n",
      "File \u001b[0;32m~/miniconda3/envs/xrfeitoria/lib/python3.9/xmlrpc/client.py:1354\u001b[0m, in \u001b[0;36mTransport.parse_response\u001b[0;34m(self, response)\u001b[0m\n\u001b[1;32m   1352\u001b[0m p\u001b[39m.\u001b[39mclose()\n\u001b[0;32m-> 1354\u001b[0m \u001b[39mreturn\u001b[39;00m u\u001b[39m.\u001b[39;49mclose()\n",
      "File \u001b[0;32m~/code/xrfeitoria-gear/xrfeitoria_gear/RemoteCall/rpc/client.py:55\u001b[0m, in \u001b[0;36mRPCUnmarshaller.close\u001b[0;34m(self)\u001b[0m\n\u001b[1;32m     54\u001b[0m             \u001b[39mif\u001b[39;00m exception\u001b[39m.\u001b[39m\u001b[39m__name__\u001b[39m \u001b[39m==\u001b[39m exception_name:\n\u001b[0;32m---> 55\u001b[0m                 \u001b[39mraise\u001b[39;00m exception(exception_message)\n\u001b[1;32m     57\u001b[0m \u001b[39m# if all else fails just raise the fault\u001b[39;00m\n",
      "\u001b[0;31mTypeError\u001b[0m: add_10_cube() missing 1 required positional argument: 'cls'",
      "\nDuring handling of the above exception, another exception occurred:\n",
      "\u001b[0;31mTypeError\u001b[0m                                 Traceback (most recent call last)",
      "Cell \u001b[0;32mIn[5], line 3\u001b[0m\n\u001b[1;32m      1\u001b[0m now \u001b[39m=\u001b[39m time\u001b[39m.\u001b[39mtime()\n\u001b[0;32m----> 3\u001b[0m xrf\u001b[39m.\u001b[39;49mScene\u001b[39m.\u001b[39;49madd_10_cube()\n\u001b[1;32m      5\u001b[0m \u001b[39mprint\u001b[39m(time\u001b[39m.\u001b[39mtime() \u001b[39m-\u001b[39m now)\n",
      "File \u001b[0;32m~/code/xrfeitoria-gear/xrfeitoria_gear/RemoteCall/rpc/factory.py:248\u001b[0m, in \u001b[0;36mremote_call.<locals>.decorator.<locals>.wrapper\u001b[0;34m(*args, **kwargs)\u001b[0m\n\u001b[1;32m    242\u001b[0m validate_key_word_parameters(function, kwargs)\n\u001b[1;32m    243\u001b[0m rpc_factory \u001b[39m=\u001b[39m RPCFactory(\n\u001b[1;32m    244\u001b[0m     rpc_client\u001b[39m=\u001b[39mRPCClient(port),\n\u001b[1;32m    245\u001b[0m     remap_pairs\u001b[39m=\u001b[39mremap_pairs,\n\u001b[1;32m    246\u001b[0m     default_imports\u001b[39m=\u001b[39mdefault_imports\n\u001b[1;32m    247\u001b[0m )\n\u001b[0;32m--> 248\u001b[0m \u001b[39mreturn\u001b[39;00m rpc_factory\u001b[39m.\u001b[39;49mrun_function_remotely(function, args)\n",
      "File \u001b[0;32m~/code/xrfeitoria-gear/xrfeitoria_gear/RemoteCall/rpc/factory.py:226\u001b[0m, in \u001b[0;36mRPCFactory.run_function_remotely\u001b[0;34m(self, function, args)\u001b[0m\n\u001b[1;32m    224\u001b[0m \u001b[39mif\u001b[39;00m \u001b[39misinstance\u001b[39m(exception, Fault):\n\u001b[1;32m    225\u001b[0m     \u001b[39mraise\u001b[39;00m Fault(exception\u001b[39m.\u001b[39mfaultCode, exception\u001b[39m.\u001b[39mfaultString)\n\u001b[0;32m--> 226\u001b[0m \u001b[39mraise\u001b[39;00m exception\u001b[39m.\u001b[39m\u001b[39m__class__\u001b[39m(stack_trace)\u001b[39m.\u001b[39mwith_traceback(call_traceback)\n",
      "Cell \u001b[0;32mIn[5], line 3\u001b[0m\n\u001b[1;32m      1\u001b[0m now \u001b[39m=\u001b[39m time\u001b[39m.\u001b[39mtime()\n\u001b[0;32m----> 3\u001b[0m xrf\u001b[39m.\u001b[39;49mScene\u001b[39m.\u001b[39;49madd_10_cube()\n\u001b[1;32m      5\u001b[0m \u001b[39mprint\u001b[39m(time\u001b[39m.\u001b[39mtime() \u001b[39m-\u001b[39m now)\n",
      "\u001b[0;31mTypeError\u001b[0m: add_10_cube() missing 1 required positional argument: 'cls'  File \"/Users/meihaiyi/code/xrfeitoria-gear/xrfeitoria_gear/scene/blender.py\", line 22"
     ]
    }
   ],
   "source": [
    "now = time.time()\n",
    "\n",
    "xf.Scene.add_10_cube()\n",
    "\n",
    "print(time.time() - now)"
   ]
  },
  {
   "cell_type": "code",
   "execution_count": null,
   "metadata": {},
   "outputs": [],
   "source": []
  }
 ],
 "metadata": {
  "kernelspec": {
   "display_name": "xrfeitoria",
   "language": "python",
   "name": "python3"
  },
  "language_info": {
   "codemirror_mode": {
    "name": "ipython",
    "version": 3
   },
   "file_extension": ".py",
   "mimetype": "text/x-python",
   "name": "python",
   "nbconvert_exporter": "python",
   "pygments_lexer": "ipython3",
   "version": "3.10.12"
  },
  "orig_nbformat": 4
 },
 "nbformat": 4,
 "nbformat_minor": 2
}
