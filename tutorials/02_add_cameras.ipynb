{
 "cells": [
  {
   "cell_type": "markdown",
   "metadata": {},
   "source": [
    "# Tutorial02 - Add cameras\n",
    "\n",
    "## Overview\n",
    "\n",
    "In this tutorial, you will learn how to add cameras in your engine. Let's go!🚀 "
   ]
  },
  {
   "cell_type": "markdown",
   "metadata": {},
   "source": [
    "## Preparation\n",
    "\n",
    "Similar as Tutorial01, specify your engine path and initialize XRFeitoria."
   ]
  },
  {
   "cell_type": "code",
   "execution_count": null,
   "metadata": {},
   "outputs": [],
   "source": [
    "## import xrfeitoria\n",
    "import xrfeitoria as xf\n",
    "\n",
    "## this engine_exec_path is just an example, replace it with your own engine path.\n",
    "engine_exec_path = '/home/SENSETIME/wangfanzhou/fanzhou/blender-3.3.5-linux-x64/blender'\n",
    "\n",
    "from pathlib import Path\n",
    "\n",
    "exec_path_stem = Path(engine_exec_path).stem.lower()\n",
    "if 'blender' in exec_path_stem:\n",
    "    xf_runner = xf.init_blender(exec_path=engine_exec_path, background=False, new_process=True)\n",
    "elif 'unreal' in exec_path_stem:\n",
    "    xf_runner = xf.init_unreal(exec_path=engine_exec_path, background=False, new_process=True)\n",
    "else:\n",
    "    raise RuntimeError(\"Invalid engine path.\")"
   ]
  },
  {
   "cell_type": "markdown",
   "metadata": {},
   "source": [
    "## Add cameras\n",
    "\n",
    "The function ``xf_runner.Camera.spawn_camera`` add a camera into the scene. You can set the name, location, rotation and field of view of the new camera."
   ]
  },
  {
   "cell_type": "code",
   "execution_count": null,
   "metadata": {},
   "outputs": [],
   "source": [
    "my_camera = xf_runner.Camera.spawn_camera(name='My camera', location=(0, 0, 3), rotation=(90, 0, 0), fov=60)"
   ]
  }
 ],
 "metadata": {
  "kernelspec": {
   "display_name": "blender-pipeline",
   "language": "python",
   "name": "python3"
  },
  "language_info": {
   "codemirror_mode": {
    "name": "ipython",
    "version": 3
   },
   "file_extension": ".py",
   "mimetype": "text/x-python",
   "name": "python",
   "nbconvert_exporter": "python",
   "pygments_lexer": "ipython3",
   "version": "3.10.12"
  },
  "orig_nbformat": 4
 },
 "nbformat": 4,
 "nbformat_minor": 2
}
